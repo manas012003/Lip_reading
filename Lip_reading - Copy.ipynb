{
 "cells": [
  {
   "cell_type": "code",
   "execution_count": 5,
   "metadata": {},
   "outputs": [],
   "source": [
    "import os\n",
    "import cv2\n",
    "import tensorflow as tf\n",
    "import numpy as np\n",
    "from typing import List\n",
    "from matplotlib import pyplot as plt\n",
    "import imageio\n",
    "\n",
    " "
   ]
  },
  {
   "cell_type": "code",
   "execution_count": 6,
   "metadata": {},
   "outputs": [],
   "source": [
    "import gdown\n",
    "#If you want to download a file from Google Drive in Python, use gdown"
   ]
  },
  {
   "cell_type": "code",
   "execution_count": 4,
   "metadata": {},
   "outputs": [
    {
     "name": "stderr",
     "output_type": "stream",
     "text": [
      "Downloading...\n",
      "From: https://drive.google.com/uc?id=1YlvpDLix3S-U8fd-gqRwPcWXAXm8JwjL\n",
      "To: c:\\Users\\mayan\\ML_projects\\data.zip\n",
      "  0%|          | 0.00/423M [00:00<?, ?B/s]"
     ]
    },
    {
     "ename": "KeyboardInterrupt",
     "evalue": "",
     "output_type": "error",
     "traceback": [
      "\u001b[1;31m---------------------------------------------------------------------------\u001b[0m",
      "\u001b[1;31mKeyboardInterrupt\u001b[0m                         Traceback (most recent call last)",
      "\u001b[1;32mc:\\Users\\mayan\\ML_projects\\Lip_reading - Copy.ipynb Cell 3\u001b[0m in \u001b[0;36m3\n\u001b[0;32m      <a href='vscode-notebook-cell:/c%3A/Users/mayan/ML_projects/Lip_reading%20-%20Copy.ipynb#W2sZmlsZQ%3D%3D?line=0'>1</a>\u001b[0m url \u001b[39m=\u001b[39m \u001b[39m'\u001b[39m\u001b[39mhttps://drive.google.com/uc?id=1YlvpDLix3S-U8fd-gqRwPcWXAXm8JwjL\u001b[39m\u001b[39m'\u001b[39m\n\u001b[0;32m      <a href='vscode-notebook-cell:/c%3A/Users/mayan/ML_projects/Lip_reading%20-%20Copy.ipynb#W2sZmlsZQ%3D%3D?line=1'>2</a>\u001b[0m output \u001b[39m=\u001b[39m \u001b[39m'\u001b[39m\u001b[39mdata.zip\u001b[39m\u001b[39m'\u001b[39m\n\u001b[1;32m----> <a href='vscode-notebook-cell:/c%3A/Users/mayan/ML_projects/Lip_reading%20-%20Copy.ipynb#W2sZmlsZQ%3D%3D?line=2'>3</a>\u001b[0m gdown\u001b[39m.\u001b[39;49mdownload(url, output, quiet\u001b[39m=\u001b[39;49m\u001b[39mFalse\u001b[39;49;00m) \n\u001b[0;32m      <a href='vscode-notebook-cell:/c%3A/Users/mayan/ML_projects/Lip_reading%20-%20Copy.ipynb#W2sZmlsZQ%3D%3D?line=3'>4</a>\u001b[0m gdown\u001b[39m.\u001b[39mextractall(\u001b[39m'\u001b[39m\u001b[39mdata.zip\u001b[39m\u001b[39m'\u001b[39m)\n",
      "File \u001b[1;32mc:\\Users\\mayan\\AppData\\Local\\Programs\\Python\\Python310\\lib\\site-packages\\gdown\\download.py:270\u001b[0m, in \u001b[0;36mdownload\u001b[1;34m(url, output, quiet, proxy, speed, use_cookies, verify, id, fuzzy, resume)\u001b[0m\n\u001b[0;32m    268\u001b[0m     pbar \u001b[39m=\u001b[39m tqdm\u001b[39m.\u001b[39mtqdm(total\u001b[39m=\u001b[39mtotal, unit\u001b[39m=\u001b[39m\u001b[39m\"\u001b[39m\u001b[39mB\u001b[39m\u001b[39m\"\u001b[39m, unit_scale\u001b[39m=\u001b[39m\u001b[39mTrue\u001b[39;00m)\n\u001b[0;32m    269\u001b[0m t_start \u001b[39m=\u001b[39m time\u001b[39m.\u001b[39mtime()\n\u001b[1;32m--> 270\u001b[0m \u001b[39mfor\u001b[39;00m chunk \u001b[39min\u001b[39;00m res\u001b[39m.\u001b[39miter_content(chunk_size\u001b[39m=\u001b[39mCHUNK_SIZE):\n\u001b[0;32m    271\u001b[0m     f\u001b[39m.\u001b[39mwrite(chunk)\n\u001b[0;32m    272\u001b[0m     \u001b[39mif\u001b[39;00m \u001b[39mnot\u001b[39;00m quiet:\n",
      "File \u001b[1;32mc:\\Users\\mayan\\AppData\\Local\\Programs\\Python\\Python310\\lib\\site-packages\\requests\\models.py:816\u001b[0m, in \u001b[0;36mResponse.iter_content.<locals>.generate\u001b[1;34m()\u001b[0m\n\u001b[0;32m    814\u001b[0m \u001b[39mif\u001b[39;00m \u001b[39mhasattr\u001b[39m(\u001b[39mself\u001b[39m\u001b[39m.\u001b[39mraw, \u001b[39m\"\u001b[39m\u001b[39mstream\u001b[39m\u001b[39m\"\u001b[39m):\n\u001b[0;32m    815\u001b[0m     \u001b[39mtry\u001b[39;00m:\n\u001b[1;32m--> 816\u001b[0m         \u001b[39myield from\u001b[39;00m \u001b[39mself\u001b[39m\u001b[39m.\u001b[39mraw\u001b[39m.\u001b[39mstream(chunk_size, decode_content\u001b[39m=\u001b[39m\u001b[39mTrue\u001b[39;00m)\n\u001b[0;32m    817\u001b[0m     \u001b[39mexcept\u001b[39;00m ProtocolError \u001b[39mas\u001b[39;00m e:\n\u001b[0;32m    818\u001b[0m         \u001b[39mraise\u001b[39;00m ChunkedEncodingError(e)\n",
      "File \u001b[1;32mc:\\Users\\mayan\\AppData\\Local\\Programs\\Python\\Python310\\lib\\site-packages\\urllib3\\response.py:627\u001b[0m, in \u001b[0;36mHTTPResponse.stream\u001b[1;34m(self, amt, decode_content)\u001b[0m\n\u001b[0;32m    625\u001b[0m \u001b[39melse\u001b[39;00m:\n\u001b[0;32m    626\u001b[0m     \u001b[39mwhile\u001b[39;00m \u001b[39mnot\u001b[39;00m is_fp_closed(\u001b[39mself\u001b[39m\u001b[39m.\u001b[39m_fp):\n\u001b[1;32m--> 627\u001b[0m         data \u001b[39m=\u001b[39m \u001b[39mself\u001b[39;49m\u001b[39m.\u001b[39;49mread(amt\u001b[39m=\u001b[39;49mamt, decode_content\u001b[39m=\u001b[39;49mdecode_content)\n\u001b[0;32m    629\u001b[0m         \u001b[39mif\u001b[39;00m data:\n\u001b[0;32m    630\u001b[0m             \u001b[39myield\u001b[39;00m data\n",
      "File \u001b[1;32mc:\\Users\\mayan\\AppData\\Local\\Programs\\Python\\Python310\\lib\\site-packages\\urllib3\\response.py:566\u001b[0m, in \u001b[0;36mHTTPResponse.read\u001b[1;34m(self, amt, decode_content, cache_content)\u001b[0m\n\u001b[0;32m    563\u001b[0m fp_closed \u001b[39m=\u001b[39m \u001b[39mgetattr\u001b[39m(\u001b[39mself\u001b[39m\u001b[39m.\u001b[39m_fp, \u001b[39m\"\u001b[39m\u001b[39mclosed\u001b[39m\u001b[39m\"\u001b[39m, \u001b[39mFalse\u001b[39;00m)\n\u001b[0;32m    565\u001b[0m \u001b[39mwith\u001b[39;00m \u001b[39mself\u001b[39m\u001b[39m.\u001b[39m_error_catcher():\n\u001b[1;32m--> 566\u001b[0m     data \u001b[39m=\u001b[39m \u001b[39mself\u001b[39;49m\u001b[39m.\u001b[39;49m_fp_read(amt) \u001b[39mif\u001b[39;00m \u001b[39mnot\u001b[39;00m fp_closed \u001b[39melse\u001b[39;00m \u001b[39mb\u001b[39m\u001b[39m\"\u001b[39m\u001b[39m\"\u001b[39m\n\u001b[0;32m    567\u001b[0m     \u001b[39mif\u001b[39;00m amt \u001b[39mis\u001b[39;00m \u001b[39mNone\u001b[39;00m:\n\u001b[0;32m    568\u001b[0m         flush_decoder \u001b[39m=\u001b[39m \u001b[39mTrue\u001b[39;00m\n",
      "File \u001b[1;32mc:\\Users\\mayan\\AppData\\Local\\Programs\\Python\\Python310\\lib\\site-packages\\urllib3\\response.py:532\u001b[0m, in \u001b[0;36mHTTPResponse._fp_read\u001b[1;34m(self, amt)\u001b[0m\n\u001b[0;32m    529\u001b[0m     \u001b[39mreturn\u001b[39;00m buffer\u001b[39m.\u001b[39mgetvalue()\n\u001b[0;32m    530\u001b[0m \u001b[39melse\u001b[39;00m:\n\u001b[0;32m    531\u001b[0m     \u001b[39m# StringIO doesn't like amt=None\u001b[39;00m\n\u001b[1;32m--> 532\u001b[0m     \u001b[39mreturn\u001b[39;00m \u001b[39mself\u001b[39;49m\u001b[39m.\u001b[39;49m_fp\u001b[39m.\u001b[39;49mread(amt) \u001b[39mif\u001b[39;00m amt \u001b[39mis\u001b[39;00m \u001b[39mnot\u001b[39;00m \u001b[39mNone\u001b[39;00m \u001b[39melse\u001b[39;00m \u001b[39mself\u001b[39m\u001b[39m.\u001b[39m_fp\u001b[39m.\u001b[39mread()\n",
      "File \u001b[1;32mc:\\Users\\mayan\\AppData\\Local\\Programs\\Python\\Python310\\lib\\http\\client.py:465\u001b[0m, in \u001b[0;36mHTTPResponse.read\u001b[1;34m(self, amt)\u001b[0m\n\u001b[0;32m    462\u001b[0m \u001b[39mif\u001b[39;00m \u001b[39mself\u001b[39m\u001b[39m.\u001b[39mlength \u001b[39mis\u001b[39;00m \u001b[39mnot\u001b[39;00m \u001b[39mNone\u001b[39;00m \u001b[39mand\u001b[39;00m amt \u001b[39m>\u001b[39m \u001b[39mself\u001b[39m\u001b[39m.\u001b[39mlength:\n\u001b[0;32m    463\u001b[0m     \u001b[39m# clip the read to the \"end of response\"\u001b[39;00m\n\u001b[0;32m    464\u001b[0m     amt \u001b[39m=\u001b[39m \u001b[39mself\u001b[39m\u001b[39m.\u001b[39mlength\n\u001b[1;32m--> 465\u001b[0m s \u001b[39m=\u001b[39m \u001b[39mself\u001b[39;49m\u001b[39m.\u001b[39;49mfp\u001b[39m.\u001b[39;49mread(amt)\n\u001b[0;32m    466\u001b[0m \u001b[39mif\u001b[39;00m \u001b[39mnot\u001b[39;00m s \u001b[39mand\u001b[39;00m amt:\n\u001b[0;32m    467\u001b[0m     \u001b[39m# Ideally, we would raise IncompleteRead if the content-length\u001b[39;00m\n\u001b[0;32m    468\u001b[0m     \u001b[39m# wasn't satisfied, but it might break compatibility.\u001b[39;00m\n\u001b[0;32m    469\u001b[0m     \u001b[39mself\u001b[39m\u001b[39m.\u001b[39m_close_conn()\n",
      "File \u001b[1;32mc:\\Users\\mayan\\AppData\\Local\\Programs\\Python\\Python310\\lib\\socket.py:705\u001b[0m, in \u001b[0;36mSocketIO.readinto\u001b[1;34m(self, b)\u001b[0m\n\u001b[0;32m    703\u001b[0m \u001b[39mwhile\u001b[39;00m \u001b[39mTrue\u001b[39;00m:\n\u001b[0;32m    704\u001b[0m     \u001b[39mtry\u001b[39;00m:\n\u001b[1;32m--> 705\u001b[0m         \u001b[39mreturn\u001b[39;00m \u001b[39mself\u001b[39;49m\u001b[39m.\u001b[39;49m_sock\u001b[39m.\u001b[39;49mrecv_into(b)\n\u001b[0;32m    706\u001b[0m     \u001b[39mexcept\u001b[39;00m timeout:\n\u001b[0;32m    707\u001b[0m         \u001b[39mself\u001b[39m\u001b[39m.\u001b[39m_timeout_occurred \u001b[39m=\u001b[39m \u001b[39mTrue\u001b[39;00m\n",
      "File \u001b[1;32mc:\\Users\\mayan\\AppData\\Local\\Programs\\Python\\Python310\\lib\\ssl.py:1274\u001b[0m, in \u001b[0;36mSSLSocket.recv_into\u001b[1;34m(self, buffer, nbytes, flags)\u001b[0m\n\u001b[0;32m   1270\u001b[0m     \u001b[39mif\u001b[39;00m flags \u001b[39m!=\u001b[39m \u001b[39m0\u001b[39m:\n\u001b[0;32m   1271\u001b[0m         \u001b[39mraise\u001b[39;00m \u001b[39mValueError\u001b[39;00m(\n\u001b[0;32m   1272\u001b[0m           \u001b[39m\"\u001b[39m\u001b[39mnon-zero flags not allowed in calls to recv_into() on \u001b[39m\u001b[39m%s\u001b[39;00m\u001b[39m\"\u001b[39m \u001b[39m%\u001b[39m\n\u001b[0;32m   1273\u001b[0m           \u001b[39mself\u001b[39m\u001b[39m.\u001b[39m\u001b[39m__class__\u001b[39m)\n\u001b[1;32m-> 1274\u001b[0m     \u001b[39mreturn\u001b[39;00m \u001b[39mself\u001b[39;49m\u001b[39m.\u001b[39;49mread(nbytes, buffer)\n\u001b[0;32m   1275\u001b[0m \u001b[39melse\u001b[39;00m:\n\u001b[0;32m   1276\u001b[0m     \u001b[39mreturn\u001b[39;00m \u001b[39msuper\u001b[39m()\u001b[39m.\u001b[39mrecv_into(buffer, nbytes, flags)\n",
      "File \u001b[1;32mc:\\Users\\mayan\\AppData\\Local\\Programs\\Python\\Python310\\lib\\ssl.py:1130\u001b[0m, in \u001b[0;36mSSLSocket.read\u001b[1;34m(self, len, buffer)\u001b[0m\n\u001b[0;32m   1128\u001b[0m \u001b[39mtry\u001b[39;00m:\n\u001b[0;32m   1129\u001b[0m     \u001b[39mif\u001b[39;00m buffer \u001b[39mis\u001b[39;00m \u001b[39mnot\u001b[39;00m \u001b[39mNone\u001b[39;00m:\n\u001b[1;32m-> 1130\u001b[0m         \u001b[39mreturn\u001b[39;00m \u001b[39mself\u001b[39;49m\u001b[39m.\u001b[39;49m_sslobj\u001b[39m.\u001b[39;49mread(\u001b[39mlen\u001b[39;49m, buffer)\n\u001b[0;32m   1131\u001b[0m     \u001b[39melse\u001b[39;00m:\n\u001b[0;32m   1132\u001b[0m         \u001b[39mreturn\u001b[39;00m \u001b[39mself\u001b[39m\u001b[39m.\u001b[39m_sslobj\u001b[39m.\u001b[39mread(\u001b[39mlen\u001b[39m)\n",
      "\u001b[1;31mKeyboardInterrupt\u001b[0m: "
     ]
    }
   ],
   "source": [
    "url = 'https://drive.google.com/uc?id=1YlvpDLix3S-U8fd-gqRwPcWXAXm8JwjL'\n",
    "output = 'data.zip'\n",
    "gdown.download(url, output, quiet=False) \n",
    "gdown.extractall('data.zip')"
   ]
  },
  {
   "cell_type": "code",
   "execution_count": 8,
   "metadata": {},
   "outputs": [],
   "source": [
    "def load_video(path:str) -> List[float]: \n",
    "    #function Takes video as Input returns floats numbers\n",
    "\n",
    "    cap = cv2.VideoCapture(path)\n",
    "    #cap is an instance of video ans break it into frames\n",
    "    frames = []\n",
    "    for _ in range(int(cap.get(cv2.CAP_PROP_FRAME_COUNT))): \n",
    "        ret, frame = cap.read()\n",
    "        frame = tf.image.rgb_to_grayscale(frame)\n",
    "        frames.append(frame[190:236,80:220,:])\n",
    "        #concentrating on mouth region\n",
    "    cap.release()\n",
    "    \n",
    "    mean = tf.math.reduce_mean(frames)\n",
    "    std = tf.math.reduce_std(tf.cast(frames, tf.float32))\n",
    "    return tf.cast((frames - mean), tf.float32) / std\n",
    "    # feature Scaling"
   ]
  },
  {
   "cell_type": "code",
   "execution_count": null,
   "metadata": {},
   "outputs": [],
   "source": []
  },
  {
   "cell_type": "code",
   "execution_count": 9,
   "metadata": {},
   "outputs": [],
   "source": [
    "vocab = [x for x in \"abcdefghijklmnopqrstuvwxyz'?!123456789 \"]"
   ]
  },
  {
   "cell_type": "code",
   "execution_count": 10,
   "metadata": {},
   "outputs": [
    {
     "name": "stdout",
     "output_type": "stream",
     "text": [
      "The vocabulary is: ['', 'a', 'b', 'c', 'd', 'e', 'f', 'g', 'h', 'i', 'j', 'k', 'l', 'm', 'n', 'o', 'p', 'q', 'r', 's', 't', 'u', 'v', 'w', 'x', 'y', 'z', \"'\", '?', '!', '1', '2', '3', '4', '5', '6', '7', '8', '9', ' '] (size =40)\n"
     ]
    }
   ],
   "source": [
    "char_to_num = tf.keras.layers.StringLookup(vocabulary=vocab, oov_token=\"\")\n",
    "#converts char to number using keras CTC ASR\n",
    "num_to_char = tf.keras.layers.StringLookup(\n",
    "    vocabulary=char_to_num.get_vocabulary(), oov_token=\"\", invert=True\n",
    ")\n",
    "\n",
    "print(\n",
    "    f\"The vocabulary is: {char_to_num.get_vocabulary()} \"\n",
    "    f\"(size ={char_to_num.vocabulary_size()})\"\n",
    ")"
   ]
  },
  {
   "cell_type": "code",
   "execution_count": 11,
   "metadata": {},
   "outputs": [],
   "source": [
    "def load_alignments(path:str) -> List[str]: \n",
    "    with open(path, 'r') as f: \n",
    "        lines = f.readlines() \n",
    "    tokens = []\n",
    "    for line in lines:\n",
    "        line = line.split()\n",
    "        if line[2] != 'sil': \n",
    "            tokens = [*tokens,' ',line[2]]\n",
    "    return char_to_num(tf.reshape(tf.strings.unicode_split(tokens, input_encoding='UTF-8'), (-1)))[1:]\n",
    "    #converting our characters to numbers"
   ]
  },
  {
   "cell_type": "code",
   "execution_count": 12,
   "metadata": {},
   "outputs": [],
   "source": [
    "def load_data(path: str): \n",
    "    path = bytes.decode(path.numpy())\n",
    "    #file_name = path.split('/')[-1].split('.')[0]\n",
    "    # File name splitting for windows\n",
    "    file_name = path.split('\\\\')[-1].split('.')[0]\n",
    "    video_path = os.path.join('data','s1',f'{file_name}.mpg')\n",
    "    alignment_path = os.path.join('data','alignments','s1',f'{file_name}.align')\n",
    "    frames = load_video(video_path) \n",
    "    alignments = load_alignments(alignment_path)\n",
    "    #splits up the video into alignment path,frames\n",
    "    return frames, alignments"
   ]
  },
  {
   "cell_type": "code",
   "execution_count": 13,
   "metadata": {},
   "outputs": [],
   "source": [
    "test_path='C:\\\\Users\\\\mayan\\\\ML_projects\\\\data\\\\s1\\\\bbaf5a.mpg'"
   ]
  },
  {
   "cell_type": "code",
   "execution_count": 14,
   "metadata": {},
   "outputs": [
    {
     "data": {
      "text/plain": [
       "'bbaf5a'"
      ]
     },
     "execution_count": 14,
     "metadata": {},
     "output_type": "execute_result"
    }
   ],
   "source": [
    "tf.convert_to_tensor(test_path).numpy().decode('utf-8').split('\\\\')[-1].split('.')[0]"
   ]
  },
  {
   "cell_type": "code",
   "execution_count": 15,
   "metadata": {},
   "outputs": [],
   "source": [
    "frames, alignments=load_data(tf.convert_to_tensor(test_path))"
   ]
  },
  {
   "cell_type": "code",
   "execution_count": 16,
   "metadata": {},
   "outputs": [
    {
     "data": {
      "text/plain": [
       "<tf.Tensor: shape=(75, 46, 140, 1), dtype=float32, numpy=\n",
       "array([[[[1.368547  ],\n",
       "         [1.368547  ],\n",
       "         [1.368547  ],\n",
       "         ...,\n",
       "         [8.93357   ],\n",
       "         [9.427768  ],\n",
       "         [9.617844  ]],\n",
       "\n",
       "        [[1.368547  ],\n",
       "         [1.368547  ],\n",
       "         [1.368547  ],\n",
       "         ...,\n",
       "         [9.123646  ],\n",
       "         [9.503798  ],\n",
       "         [9.503798  ]],\n",
       "\n",
       "        [[1.2545013 ],\n",
       "         [1.2545013 ],\n",
       "         [1.2164861 ],\n",
       "         ...,\n",
       "         [0.07603038],\n",
       "         [0.11404558],\n",
       "         [0.11404558]],\n",
       "\n",
       "        ...,\n",
       "\n",
       "        [[0.9123646 ],\n",
       "         [0.9123646 ],\n",
       "         [0.8743494 ],\n",
       "         ...,\n",
       "         [9.503798  ],\n",
       "         [9.617844  ],\n",
       "         [9.617844  ]],\n",
       "\n",
       "        [[0.9123646 ],\n",
       "         [0.9123646 ],\n",
       "         [0.8743494 ],\n",
       "         ...,\n",
       "         [9.1996765 ],\n",
       "         [9.389752  ],\n",
       "         [9.541813  ]],\n",
       "\n",
       "        [[0.9123646 ],\n",
       "         [0.9123646 ],\n",
       "         [0.8743494 ],\n",
       "         ...,\n",
       "         [9.237692  ],\n",
       "         [9.389752  ],\n",
       "         [9.427768  ]]],\n",
       "\n",
       "\n",
       "       [[[1.3305317 ],\n",
       "         [1.3305317 ],\n",
       "         [1.2925165 ],\n",
       "         ...,\n",
       "         [8.971585  ],\n",
       "         [9.541813  ],\n",
       "         [9.617844  ]],\n",
       "\n",
       "        [[1.3305317 ],\n",
       "         [1.3305317 ],\n",
       "         [1.2925165 ],\n",
       "         ...,\n",
       "         [9.161661  ],\n",
       "         [9.541813  ],\n",
       "         [9.579828  ]],\n",
       "\n",
       "        [[1.2164861 ],\n",
       "         [1.2164861 ],\n",
       "         [1.2164861 ],\n",
       "         ...,\n",
       "         [0.03801519],\n",
       "         [0.07603038],\n",
       "         [0.07603038]],\n",
       "\n",
       "        ...,\n",
       "\n",
       "        [[0.8743494 ],\n",
       "         [0.8363342 ],\n",
       "         [0.8363342 ],\n",
       "         ...,\n",
       "         [9.465783  ],\n",
       "         [9.541813  ],\n",
       "         [9.655859  ]],\n",
       "\n",
       "        [[0.8743494 ],\n",
       "         [0.8363342 ],\n",
       "         [0.8363342 ],\n",
       "         ...,\n",
       "         [9.1996765 ],\n",
       "         [9.427768  ],\n",
       "         [9.541813  ]],\n",
       "\n",
       "        [[0.8743494 ],\n",
       "         [0.8363342 ],\n",
       "         [0.8363342 ],\n",
       "         ...,\n",
       "         [9.237692  ],\n",
       "         [9.465783  ],\n",
       "         [9.427768  ]]],\n",
       "\n",
       "\n",
       "       [[[1.2925165 ],\n",
       "         [1.2925165 ],\n",
       "         [1.2925165 ],\n",
       "         ...,\n",
       "         [8.895555  ],\n",
       "         [9.503798  ],\n",
       "         [9.693874  ]],\n",
       "\n",
       "        [[1.2925165 ],\n",
       "         [1.2925165 ],\n",
       "         [1.2925165 ],\n",
       "         ...,\n",
       "         [9.161661  ],\n",
       "         [9.617844  ],\n",
       "         [9.617844  ]],\n",
       "\n",
       "        [[1.2164861 ],\n",
       "         [1.2164861 ],\n",
       "         [1.2164861 ],\n",
       "         ...,\n",
       "         [0.07603038],\n",
       "         [0.07603038],\n",
       "         [0.07603038]],\n",
       "\n",
       "        ...,\n",
       "\n",
       "        [[0.9123646 ],\n",
       "         [0.8743494 ],\n",
       "         [0.8743494 ],\n",
       "         ...,\n",
       "         [9.465783  ],\n",
       "         [9.503798  ],\n",
       "         [9.541813  ]],\n",
       "\n",
       "        [[0.8743494 ],\n",
       "         [0.8363342 ],\n",
       "         [0.8363342 ],\n",
       "         ...,\n",
       "         [9.1996765 ],\n",
       "         [9.389752  ],\n",
       "         [9.427768  ]],\n",
       "\n",
       "        [[0.8743494 ],\n",
       "         [0.8363342 ],\n",
       "         [0.8363342 ],\n",
       "         ...,\n",
       "         [9.161661  ],\n",
       "         [9.389752  ],\n",
       "         [9.427768  ]]],\n",
       "\n",
       "\n",
       "       ...,\n",
       "\n",
       "\n",
       "       [[[1.3305317 ],\n",
       "         [1.3305317 ],\n",
       "         [1.3305317 ],\n",
       "         ...,\n",
       "         [9.541813  ],\n",
       "         [0.03801519],\n",
       "         [0.03801519]],\n",
       "\n",
       "        [[1.2925165 ],\n",
       "         [1.2925165 ],\n",
       "         [1.2925165 ],\n",
       "         ...,\n",
       "         [9.617844  ],\n",
       "         [0.        ],\n",
       "         [9.693874  ]],\n",
       "\n",
       "        [[1.2925165 ],\n",
       "         [1.2925165 ],\n",
       "         [1.2925165 ],\n",
       "         ...,\n",
       "         [0.11404558],\n",
       "         [0.11404558],\n",
       "         [0.11404558]],\n",
       "\n",
       "        ...,\n",
       "\n",
       "        [[0.8743494 ],\n",
       "         [0.8743494 ],\n",
       "         [0.8743494 ],\n",
       "         ...,\n",
       "         [9.579828  ],\n",
       "         [9.655859  ],\n",
       "         [9.579828  ]],\n",
       "\n",
       "        [[0.8743494 ],\n",
       "         [0.8743494 ],\n",
       "         [0.8743494 ],\n",
       "         ...,\n",
       "         [9.275707  ],\n",
       "         [9.579828  ],\n",
       "         [9.617844  ]],\n",
       "\n",
       "        [[0.8743494 ],\n",
       "         [0.8743494 ],\n",
       "         [0.8743494 ],\n",
       "         ...,\n",
       "         [9.313722  ],\n",
       "         [9.503798  ],\n",
       "         [9.579828  ]]],\n",
       "\n",
       "\n",
       "       [[[1.4065621 ],\n",
       "         [1.4065621 ],\n",
       "         [1.368547  ],\n",
       "         ...,\n",
       "         [9.579828  ],\n",
       "         [0.07603038],\n",
       "         [0.03801519]],\n",
       "\n",
       "        [[1.368547  ],\n",
       "         [1.368547  ],\n",
       "         [1.3305317 ],\n",
       "         ...,\n",
       "         [9.655859  ],\n",
       "         [0.03801519],\n",
       "         [0.11404558]],\n",
       "\n",
       "        [[1.2925165 ],\n",
       "         [1.2925165 ],\n",
       "         [1.2545013 ],\n",
       "         ...,\n",
       "         [0.19007596],\n",
       "         [0.15206076],\n",
       "         [0.15206076]],\n",
       "\n",
       "        ...,\n",
       "\n",
       "        [[0.9503798 ],\n",
       "         [0.9503798 ],\n",
       "         [0.9503798 ],\n",
       "         ...,\n",
       "         [9.503798  ],\n",
       "         [9.617844  ],\n",
       "         [9.541813  ]],\n",
       "\n",
       "        [[0.9503798 ],\n",
       "         [0.9503798 ],\n",
       "         [0.9503798 ],\n",
       "         ...,\n",
       "         [9.389752  ],\n",
       "         [9.503798  ],\n",
       "         [9.503798  ]],\n",
       "\n",
       "        [[0.9503798 ],\n",
       "         [0.9503798 ],\n",
       "         [0.9503798 ],\n",
       "         ...,\n",
       "         [9.275707  ],\n",
       "         [9.579828  ],\n",
       "         [9.503798  ]]],\n",
       "\n",
       "\n",
       "       [[[1.368547  ],\n",
       "         [1.368547  ],\n",
       "         [1.368547  ],\n",
       "         ...,\n",
       "         [9.655859  ],\n",
       "         [0.11404558],\n",
       "         [0.        ]],\n",
       "\n",
       "        [[1.368547  ],\n",
       "         [1.368547  ],\n",
       "         [1.368547  ],\n",
       "         ...,\n",
       "         [0.03801519],\n",
       "         [0.11404558],\n",
       "         [0.07603038]],\n",
       "\n",
       "        [[1.2925165 ],\n",
       "         [1.2925165 ],\n",
       "         [1.2925165 ],\n",
       "         ...,\n",
       "         [0.26610634],\n",
       "         [0.19007596],\n",
       "         [0.19007596]],\n",
       "\n",
       "        ...,\n",
       "\n",
       "        [[0.9503798 ],\n",
       "         [0.9503798 ],\n",
       "         [0.9503798 ],\n",
       "         ...,\n",
       "         [9.579828  ],\n",
       "         [9.655859  ],\n",
       "         [9.503798  ]],\n",
       "\n",
       "        [[0.9503798 ],\n",
       "         [0.9503798 ],\n",
       "         [0.9503798 ],\n",
       "         ...,\n",
       "         [9.427768  ],\n",
       "         [9.579828  ],\n",
       "         [9.465783  ]],\n",
       "\n",
       "        [[0.9503798 ],\n",
       "         [0.9503798 ],\n",
       "         [0.9503798 ],\n",
       "         ...,\n",
       "         [9.237692  ],\n",
       "         [9.503798  ],\n",
       "         [9.579828  ]]]], dtype=float32)>"
      ]
     },
     "execution_count": 16,
     "metadata": {},
     "output_type": "execute_result"
    }
   ],
   "source": [
    "frames"
   ]
  },
  {
   "cell_type": "code",
   "execution_count": 17,
   "metadata": {},
   "outputs": [
    {
     "data": {
      "text/plain": [
       "<matplotlib.image.AxesImage at 0x206cf89ef20>"
      ]
     },
     "execution_count": 17,
     "metadata": {},
     "output_type": "execute_result"
    },
    {
     "data": {
      "image/png": "[encoded data removed]",
      "text/plain": [
       "<Figure size 640x480 with 1 Axes>"
      ]
     },
     "metadata": {},
     "output_type": "display_data"
    }
   ],
   "source": [
    "plt.imshow(frames[8])"
   ]
  },
  {
   "cell_type": "code",
   "execution_count": 18,
   "metadata": {},
   "outputs": [
    {
     "data": {
      "text/plain": [
       "<tf.Tensor: shape=(), dtype=string, numpy=b'bin blue at f five again'>"
      ]
     },
     "execution_count": 18,
     "metadata": {},
     "output_type": "execute_result"
    }
   ],
   "source": [
    "tf.strings.reduce_join([bytes.decode(x) for x in num_to_char(alignments.numpy()).numpy()])"
   ]
  },
  {
   "cell_type": "code",
   "execution_count": 19,
   "metadata": {},
   "outputs": [],
   "source": [
    "def mappable_function(path:str) ->List[str]:\n",
    "    result = tf.py_function(load_data, [path], (tf.float32, tf.int64))\n",
    "    return result"
   ]
  },
  {
   "cell_type": "code",
   "execution_count": null,
   "metadata": {},
   "outputs": [],
   "source": [
    "#CREATING DATA PIPELINING"
   ]
  },
  {
   "cell_type": "code",
   "execution_count": 20,
   "metadata": {},
   "outputs": [],
   "source": [
    "data = tf.data.Dataset.list_files('C:\\\\Users\\\\mayan\\\\ML_projects\\\\data\\\\s1\\\\*.mpg')\n",
    "data = data.shuffle(500, reshuffle_each_iteration=False)\n",
    "data = data.map(mappable_function)\n",
    "data = data.padded_batch(2, padded_shapes=([75,None,None,None],[40]))\n",
    "data = data.prefetch(tf.data.AUTOTUNE)\n",
    "train = data.take(450)\n",
    "test = data.skip(450)\n",
    "# Added for split \n"
   ]
  },
  {
   "cell_type": "code",
   "execution_count": 21,
   "metadata": {},
   "outputs": [],
   "source": [
    "frames, alignments = data.as_numpy_iterator().next()"
   ]
  },
  {
   "cell_type": "code",
   "execution_count": 22,
   "metadata": {},
   "outputs": [],
   "source": [
    "sample=data.as_numpy_iterator()"
   ]
  },
  {
   "cell_type": "code",
   "execution_count": 23,
   "metadata": {},
   "outputs": [
    {
     "data": {
      "text/plain": [
       "array([[[[[1.5573975 ],\n",
       "          [1.5573975 ],\n",
       "          [1.5573975 ],\n",
       "          ...,\n",
       "          [0.07786987],\n",
       "          [0.15573974],\n",
       "          [0.15573974]],\n",
       "\n",
       "         [[1.5573975 ],\n",
       "          [1.5573975 ],\n",
       "          [1.5573975 ],\n",
       "          ...,\n",
       "          [0.07786987],\n",
       "          [0.15573974],\n",
       "          [0.15573974]],\n",
       "\n",
       "         [[1.3627228 ],\n",
       "          [1.3627228 ],\n",
       "          [1.3627228 ],\n",
       "          ...,\n",
       "          [0.03893493],\n",
       "          [0.03893493],\n",
       "          [0.03893493]],\n",
       "\n",
       "         ...,\n",
       "\n",
       "         [[1.0512433 ],\n",
       "          [1.0123084 ],\n",
       "          [1.0123084 ],\n",
       "          ...,\n",
       "          [9.694799  ],\n",
       "          [9.694799  ],\n",
       "          [9.694799  ]],\n",
       "\n",
       "         [[1.0123084 ],\n",
       "          [1.0123084 ],\n",
       "          [1.0123084 ],\n",
       "          ...,\n",
       "          [9.694799  ],\n",
       "          [9.694799  ],\n",
       "          [9.694799  ]],\n",
       "\n",
       "         [[1.0123084 ],\n",
       "          [1.0123084 ],\n",
       "          [1.0123084 ],\n",
       "          ...,\n",
       "          [9.694799  ],\n",
       "          [9.694799  ],\n",
       "          [9.694799  ]]],\n",
       "\n",
       "\n",
       "        [[[1.5184625 ],\n",
       "          [1.5184625 ],\n",
       "          [1.5184625 ],\n",
       "          ...,\n",
       "          [0.07786987],\n",
       "          [0.03893493],\n",
       "          [0.03893493]],\n",
       "\n",
       "         [[1.5184625 ],\n",
       "          [1.5184625 ],\n",
       "          [1.5184625 ],\n",
       "          ...,\n",
       "          [0.07786987],\n",
       "          [0.03893493],\n",
       "          [0.03893493]],\n",
       "\n",
       "         [[1.3627228 ],\n",
       "          [1.3627228 ],\n",
       "          [1.3627228 ],\n",
       "          ...,\n",
       "          [0.11680481],\n",
       "          [0.11680481],\n",
       "          [0.07786987]],\n",
       "\n",
       "         ...,\n",
       "\n",
       "         [[1.0123084 ],\n",
       "          [1.0123084 ],\n",
       "          [1.0123084 ],\n",
       "          ...,\n",
       "          [9.694799  ],\n",
       "          [9.694799  ],\n",
       "          [9.694799  ]],\n",
       "\n",
       "         [[1.0123084 ],\n",
       "          [1.0123084 ],\n",
       "          [1.0123084 ],\n",
       "          ...,\n",
       "          [9.694799  ],\n",
       "          [9.694799  ],\n",
       "          [9.694799  ]],\n",
       "\n",
       "         [[1.0123084 ],\n",
       "          [1.0123084 ],\n",
       "          [0.9733734 ],\n",
       "          ...,\n",
       "          [9.694799  ],\n",
       "          [9.694799  ],\n",
       "          [9.694799  ]]],\n",
       "\n",
       "\n",
       "        [[[1.4016577 ],\n",
       "          [1.4016577 ],\n",
       "          [1.4016577 ],\n",
       "          ...,\n",
       "          [0.07786987],\n",
       "          [0.03893493],\n",
       "          [0.03893493]],\n",
       "\n",
       "         [[1.4016577 ],\n",
       "          [1.4016577 ],\n",
       "          [1.4016577 ],\n",
       "          ...,\n",
       "          [0.07786987],\n",
       "          [0.03893493],\n",
       "          [0.03893493]],\n",
       "\n",
       "         [[1.3627228 ],\n",
       "          [1.3627228 ],\n",
       "          [1.3627228 ],\n",
       "          ...,\n",
       "          [0.03893493],\n",
       "          [0.        ],\n",
       "          [0.        ]],\n",
       "\n",
       "         ...,\n",
       "\n",
       "         [[1.0123084 ],\n",
       "          [1.0123084 ],\n",
       "          [1.0123084 ],\n",
       "          ...,\n",
       "          [9.694799  ],\n",
       "          [9.694799  ],\n",
       "          [9.694799  ]],\n",
       "\n",
       "         [[1.0123084 ],\n",
       "          [1.0123084 ],\n",
       "          [0.93443847],\n",
       "          ...,\n",
       "          [9.694799  ],\n",
       "          [9.694799  ],\n",
       "          [9.694799  ]],\n",
       "\n",
       "         [[1.0123084 ],\n",
       "          [0.93443847],\n",
       "          [0.93443847],\n",
       "          ...,\n",
       "          [9.694799  ],\n",
       "          [9.694799  ],\n",
       "          [9.694799  ]]],\n",
       "\n",
       "\n",
       "        ...,\n",
       "\n",
       "\n",
       "        [[[1.5184625 ],\n",
       "          [1.5184625 ],\n",
       "          [1.4795276 ],\n",
       "          ...,\n",
       "          [0.07786987],\n",
       "          [0.03893493],\n",
       "          [0.03893493]],\n",
       "\n",
       "         [[1.4405926 ],\n",
       "          [1.4405926 ],\n",
       "          [1.4016577 ],\n",
       "          ...,\n",
       "          [0.07786987],\n",
       "          [0.03893493],\n",
       "          [0.03893493]],\n",
       "\n",
       "         [[1.3627228 ],\n",
       "          [1.3627228 ],\n",
       "          [1.3627228 ],\n",
       "          ...,\n",
       "          [0.03893493],\n",
       "          [0.03893493],\n",
       "          [0.03893493]],\n",
       "\n",
       "         ...,\n",
       "\n",
       "         [[1.0123084 ],\n",
       "          [0.93443847],\n",
       "          [0.93443847],\n",
       "          ...,\n",
       "          [9.694799  ],\n",
       "          [9.694799  ],\n",
       "          [9.694799  ]],\n",
       "\n",
       "         [[1.0123084 ],\n",
       "          [0.93443847],\n",
       "          [0.93443847],\n",
       "          ...,\n",
       "          [9.694799  ],\n",
       "          [9.694799  ],\n",
       "          [9.694799  ]],\n",
       "\n",
       "         [[1.0123084 ],\n",
       "          [0.93443847],\n",
       "          [0.93443847],\n",
       "          ...,\n",
       "          [9.694799  ],\n",
       "          [9.694799  ],\n",
       "          [9.694799  ]]],\n",
       "\n",
       "\n",
       "        [[[1.4795276 ],\n",
       "          [1.4795276 ],\n",
       "          [1.4795276 ],\n",
       "          ...,\n",
       "          [0.07786987],\n",
       "          [0.        ],\n",
       "          [0.        ]],\n",
       "\n",
       "         [[1.4016577 ],\n",
       "          [1.4016577 ],\n",
       "          [1.4016577 ],\n",
       "          ...,\n",
       "          [0.07786987],\n",
       "          [0.        ],\n",
       "          [0.        ]],\n",
       "\n",
       "         [[1.3627228 ],\n",
       "          [1.3627228 ],\n",
       "          [1.3627228 ],\n",
       "          ...,\n",
       "          [0.03893493],\n",
       "          [0.03893493],\n",
       "          [0.        ]],\n",
       "\n",
       "         ...,\n",
       "\n",
       "         [[1.1291132 ],\n",
       "          [1.0123084 ],\n",
       "          [1.0123084 ],\n",
       "          ...,\n",
       "          [9.694799  ],\n",
       "          [9.694799  ],\n",
       "          [9.694799  ]],\n",
       "\n",
       "         [[1.0512433 ],\n",
       "          [1.0123084 ],\n",
       "          [1.0123084 ],\n",
       "          ...,\n",
       "          [9.694799  ],\n",
       "          [9.694799  ],\n",
       "          [9.694799  ]],\n",
       "\n",
       "         [[1.0512433 ],\n",
       "          [1.0123084 ],\n",
       "          [1.0123084 ],\n",
       "          ...,\n",
       "          [9.694799  ],\n",
       "          [9.694799  ],\n",
       "          [9.694799  ]]],\n",
       "\n",
       "\n",
       "        [[[1.4405926 ],\n",
       "          [1.4405926 ],\n",
       "          [1.4795276 ],\n",
       "          ...,\n",
       "          [0.07786987],\n",
       "          [0.        ],\n",
       "          [0.        ]],\n",
       "\n",
       "         [[1.3627228 ],\n",
       "          [1.3627228 ],\n",
       "          [1.4016577 ],\n",
       "          ...,\n",
       "          [0.07786987],\n",
       "          [0.        ],\n",
       "          [0.        ]],\n",
       "\n",
       "         [[1.3627228 ],\n",
       "          [1.3627228 ],\n",
       "          [1.3627228 ],\n",
       "          ...,\n",
       "          [0.03893493],\n",
       "          [0.03893493],\n",
       "          [0.        ]],\n",
       "\n",
       "         ...,\n",
       "\n",
       "         [[1.1291132 ],\n",
       "          [1.0123084 ],\n",
       "          [1.0123084 ],\n",
       "          ...,\n",
       "          [9.733734  ],\n",
       "          [9.694799  ],\n",
       "          [9.694799  ]],\n",
       "\n",
       "         [[1.0512433 ],\n",
       "          [1.0123084 ],\n",
       "          [1.0123084 ],\n",
       "          ...,\n",
       "          [9.694799  ],\n",
       "          [9.694799  ],\n",
       "          [9.694799  ]],\n",
       "\n",
       "         [[1.0512433 ],\n",
       "          [1.0123084 ],\n",
       "          [1.0123084 ],\n",
       "          ...,\n",
       "          [9.694799  ],\n",
       "          [9.694799  ],\n",
       "          [9.694799  ]]]],\n",
       "\n",
       "\n",
       "\n",
       "       [[[[1.2134    ],\n",
       "          [1.4091097 ],\n",
       "          [1.0176903 ],\n",
       "          ...,\n",
       "          [0.35227743],\n",
       "          [0.27399355],\n",
       "          [0.27399355]],\n",
       "\n",
       "         [[1.0959742 ],\n",
       "          [1.1742581 ],\n",
       "          [1.0568323 ],\n",
       "          ...,\n",
       "          [0.35227743],\n",
       "          [0.27399355],\n",
       "          [0.27399355]],\n",
       "\n",
       "         [[1.4873936 ],\n",
       "          [1.4873936 ],\n",
       "          [1.3699678 ],\n",
       "          ...,\n",
       "          [0.39141935],\n",
       "          [0.35227743],\n",
       "          [0.3131355 ]],\n",
       "\n",
       "         ...,\n",
       "\n",
       "         [[1.1351162 ],\n",
       "          [1.0959742 ],\n",
       "          [1.0959742 ],\n",
       "          ...,\n",
       "          [0.        ],\n",
       "          [0.        ],\n",
       "          [0.        ]],\n",
       "\n",
       "         [[1.0959742 ],\n",
       "          [1.0959742 ],\n",
       "          [1.0959742 ],\n",
       "          ...,\n",
       "          [0.        ],\n",
       "          [0.        ],\n",
       "          [0.        ]],\n",
       "\n",
       "         [[1.0959742 ],\n",
       "          [1.0959742 ],\n",
       "          [1.0959742 ],\n",
       "          ...,\n",
       "          [0.        ],\n",
       "          [0.        ],\n",
       "          [9.981194  ]]],\n",
       "\n",
       "\n",
       "        [[[1.252542  ],\n",
       "          [1.3699678 ],\n",
       "          [1.0959742 ],\n",
       "          ...,\n",
       "          [0.3131355 ],\n",
       "          [0.27399355],\n",
       "          [0.19570968]],\n",
       "\n",
       "         [[1.2916839 ],\n",
       "          [1.0959742 ],\n",
       "          [0.93940645],\n",
       "          ...,\n",
       "          [0.3131355 ],\n",
       "          [0.27399355],\n",
       "          [0.19570968]],\n",
       "\n",
       "         [[1.5265355 ],\n",
       "          [1.4482516 ],\n",
       "          [1.3308258 ],\n",
       "          ...,\n",
       "          [0.27399355],\n",
       "          [0.19570968],\n",
       "          [0.19570968]],\n",
       "\n",
       "         ...,\n",
       "\n",
       "         [[1.0568323 ],\n",
       "          [1.0176903 ],\n",
       "          [1.0176903 ],\n",
       "          ...,\n",
       "          [0.03914194],\n",
       "          [0.07828388],\n",
       "          [0.03914194]],\n",
       "\n",
       "         [[1.0176903 ],\n",
       "          [1.0176903 ],\n",
       "          [1.0176903 ],\n",
       "          ...,\n",
       "          [0.03914194],\n",
       "          [0.03914194],\n",
       "          [0.        ]],\n",
       "\n",
       "         [[1.0176903 ],\n",
       "          [1.0176903 ],\n",
       "          [1.0176903 ],\n",
       "          ...,\n",
       "          [0.03914194],\n",
       "          [0.        ],\n",
       "          [0.        ]]],\n",
       "\n",
       "\n",
       "        [[[1.3308258 ],\n",
       "          [1.3699678 ],\n",
       "          [1.0176903 ],\n",
       "          ...,\n",
       "          [0.27399355],\n",
       "          [0.27399355],\n",
       "          [0.19570968]],\n",
       "\n",
       "         [[1.4873936 ],\n",
       "          [1.1742581 ],\n",
       "          [0.93940645],\n",
       "          ...,\n",
       "          [0.27399355],\n",
       "          [0.27399355],\n",
       "          [0.19570968]],\n",
       "\n",
       "         [[1.4873936 ],\n",
       "          [1.4482516 ],\n",
       "          [1.3308258 ],\n",
       "          ...,\n",
       "          [0.3131355 ],\n",
       "          [0.27399355],\n",
       "          [0.27399355]],\n",
       "\n",
       "         ...,\n",
       "\n",
       "         [[1.0568323 ],\n",
       "          [1.0176903 ],\n",
       "          [1.0176903 ],\n",
       "          ...,\n",
       "          [0.03914194],\n",
       "          [0.03914194],\n",
       "          [0.03914194]],\n",
       "\n",
       "         [[1.0176903 ],\n",
       "          [1.0176903 ],\n",
       "          [1.0176903 ],\n",
       "          ...,\n",
       "          [0.03914194],\n",
       "          [0.03914194],\n",
       "          [0.        ]],\n",
       "\n",
       "         [[1.0176903 ],\n",
       "          [1.0176903 ],\n",
       "          [1.0176903 ],\n",
       "          ...,\n",
       "          [0.        ],\n",
       "          [0.        ],\n",
       "          [0.        ]]],\n",
       "\n",
       "\n",
       "        ...,\n",
       "\n",
       "\n",
       "        [[[1.252542  ],\n",
       "          [1.2916839 ],\n",
       "          [0.82198066],\n",
       "          ...,\n",
       "          [0.3131355 ],\n",
       "          [0.3131355 ],\n",
       "          [0.23485161]],\n",
       "\n",
       "         [[1.252542  ],\n",
       "          [1.0959742 ],\n",
       "          [0.7436968 ],\n",
       "          ...,\n",
       "          [0.3131355 ],\n",
       "          [0.3131355 ],\n",
       "          [0.23485161]],\n",
       "\n",
       "         [[1.4873936 ],\n",
       "          [1.4482516 ],\n",
       "          [1.1351162 ],\n",
       "          ...,\n",
       "          [0.3131355 ],\n",
       "          [0.3131355 ],\n",
       "          [0.23485161]],\n",
       "\n",
       "         ...,\n",
       "\n",
       "         [[1.0959742 ],\n",
       "          [1.0959742 ],\n",
       "          [1.0959742 ],\n",
       "          ...,\n",
       "          [0.03914194],\n",
       "          [0.07828388],\n",
       "          [0.03914194]],\n",
       "\n",
       "         [[1.0959742 ],\n",
       "          [1.0959742 ],\n",
       "          [1.0959742 ],\n",
       "          ...,\n",
       "          [0.03914194],\n",
       "          [0.03914194],\n",
       "          [0.03914194]],\n",
       "\n",
       "         [[1.0959742 ],\n",
       "          [1.0959742 ],\n",
       "          [1.0568323 ],\n",
       "          ...,\n",
       "          [0.        ],\n",
       "          [0.        ],\n",
       "          [0.        ]]],\n",
       "\n",
       "\n",
       "        [[[1.252542  ],\n",
       "          [1.2134    ],\n",
       "          [0.7828387 ],\n",
       "          ...,\n",
       "          [0.3131355 ],\n",
       "          [0.23485161],\n",
       "          [0.23485161]],\n",
       "\n",
       "         [[1.252542  ],\n",
       "          [1.1742581 ],\n",
       "          [0.6654129 ],\n",
       "          ...,\n",
       "          [0.3131355 ],\n",
       "          [0.23485161],\n",
       "          [0.23485161]],\n",
       "\n",
       "         [[1.4873936 ],\n",
       "          [1.4873936 ],\n",
       "          [1.2916839 ],\n",
       "          ...,\n",
       "          [0.35227743],\n",
       "          [0.35227743],\n",
       "          [0.3131355 ]],\n",
       "\n",
       "         ...,\n",
       "\n",
       "         [[1.0959742 ],\n",
       "          [1.0959742 ],\n",
       "          [1.0959742 ],\n",
       "          ...,\n",
       "          [0.03914194],\n",
       "          [0.07828388],\n",
       "          [0.03914194]],\n",
       "\n",
       "         [[1.0568323 ],\n",
       "          [1.0568323 ],\n",
       "          [1.0568323 ],\n",
       "          ...,\n",
       "          [0.03914194],\n",
       "          [0.03914194],\n",
       "          [0.03914194]],\n",
       "\n",
       "         [[1.0568323 ],\n",
       "          [1.0568323 ],\n",
       "          [1.0176903 ],\n",
       "          ...,\n",
       "          [0.        ],\n",
       "          [0.        ],\n",
       "          [0.        ]]],\n",
       "\n",
       "\n",
       "        [[[1.0568323 ],\n",
       "          [1.252542  ],\n",
       "          [0.7436968 ],\n",
       "          ...,\n",
       "          [0.3131355 ],\n",
       "          [0.3131355 ],\n",
       "          [0.23485161]],\n",
       "\n",
       "         [[1.0568323 ],\n",
       "          [1.1742581 ],\n",
       "          [0.6654129 ],\n",
       "          ...,\n",
       "          [0.35227743],\n",
       "          [0.3131355 ],\n",
       "          [0.3131355 ]],\n",
       "\n",
       "         [[1.4482516 ],\n",
       "          [1.4873936 ],\n",
       "          [1.2134    ],\n",
       "          ...,\n",
       "          [0.35227743],\n",
       "          [0.35227743],\n",
       "          [0.3131355 ]],\n",
       "\n",
       "         ...,\n",
       "\n",
       "         [[1.0959742 ],\n",
       "          [1.0959742 ],\n",
       "          [1.0959742 ],\n",
       "          ...,\n",
       "          [0.03914194],\n",
       "          [0.03914194],\n",
       "          [0.03914194]],\n",
       "\n",
       "         [[1.0959742 ],\n",
       "          [1.0959742 ],\n",
       "          [1.0959742 ],\n",
       "          ...,\n",
       "          [0.03914194],\n",
       "          [0.03914194],\n",
       "          [0.03914194]],\n",
       "\n",
       "         [[1.0959742 ],\n",
       "          [1.0959742 ],\n",
       "          [1.0568323 ],\n",
       "          ...,\n",
       "          [0.        ],\n",
       "          [0.        ],\n",
       "          [0.        ]]]]], dtype=float32)"
      ]
     },
     "execution_count": 23,
     "metadata": {},
     "output_type": "execute_result"
    }
   ],
   "source": [
    "val=sample.next();val[0]"
   ]
  },
  {
   "cell_type": "code",
   "execution_count": 24,
   "metadata": {},
   "outputs": [
    {
     "name": "stderr",
     "output_type": "stream",
     "text": [
      "Lossy conversion from float32 to uint8. Range [0.0, 9.9284086227417]. Convert image to uint8 prior to saving to suppress this warning.\n",
      "Lossy conversion from float32 to uint8. Range [0.0, 9.9284086227417]. Convert image to uint8 prior to saving to suppress this warning.\n",
      "Lossy conversion from float32 to uint8. Range [0.0, 9.9284086227417]. Convert image to uint8 prior to saving to suppress this warning.\n",
      "Lossy conversion from float32 to uint8. Range [0.0, 9.9284086227417]. Convert image to uint8 prior to saving to suppress this warning.\n",
      "Lossy conversion from float32 to uint8. Range [0.0, 9.9284086227417]. Convert image to uint8 prior to saving to suppress this warning.\n",
      "Lossy conversion from float32 to uint8. Range [0.0, 9.9284086227417]. Convert image to uint8 prior to saving to suppress this warning.\n",
      "Lossy conversion from float32 to uint8. Range [0.0, 9.9284086227417]. Convert image to uint8 prior to saving to suppress this warning.\n",
      "Lossy conversion from float32 to uint8. Range [0.0, 9.9284086227417]. Convert image to uint8 prior to saving to suppress this warning.\n",
      "Lossy conversion from float32 to uint8. Range [0.0, 9.9284086227417]. Convert image to uint8 prior to saving to suppress this warning.\n",
      "Lossy conversion from float32 to uint8. Range [0.0, 9.9284086227417]. Convert image to uint8 prior to saving to suppress this warning.\n",
      "Lossy conversion from float32 to uint8. Range [0.0, 9.9284086227417]. Convert image to uint8 prior to saving to suppress this warning.\n",
      "Lossy conversion from float32 to uint8. Range [0.0, 9.9284086227417]. Convert image to uint8 prior to saving to suppress this warning.\n",
      "Lossy conversion from float32 to uint8. Range [0.0, 9.9284086227417]. Convert image to uint8 prior to saving to suppress this warning.\n",
      "Lossy conversion from float32 to uint8. Range [0.0, 9.9284086227417]. Convert image to uint8 prior to saving to suppress this warning.\n",
      "Lossy conversion from float32 to uint8. Range [0.0, 9.9284086227417]. Convert image to uint8 prior to saving to suppress this warning.\n",
      "Lossy conversion from float32 to uint8. Range [0.0, 9.9284086227417]. Convert image to uint8 prior to saving to suppress this warning.\n",
      "Lossy conversion from float32 to uint8. Range [0.0, 9.9284086227417]. Convert image to uint8 prior to saving to suppress this warning.\n",
      "Lossy conversion from float32 to uint8. Range [0.0, 9.9284086227417]. Convert image to uint8 prior to saving to suppress this warning.\n",
      "Lossy conversion from float32 to uint8. Range [0.0, 9.9284086227417]. Convert image to uint8 prior to saving to suppress this warning.\n",
      "Lossy conversion from float32 to uint8. Range [0.0, 9.9284086227417]. Convert image to uint8 prior to saving to suppress this warning.\n",
      "Lossy conversion from float32 to uint8. Range [0.0, 9.9284086227417]. Convert image to uint8 prior to saving to suppress this warning.\n",
      "Lossy conversion from float32 to uint8. Range [0.0, 9.9284086227417]. Convert image to uint8 prior to saving to suppress this warning.\n",
      "Lossy conversion from float32 to uint8. Range [0.0, 9.9284086227417]. Convert image to uint8 prior to saving to suppress this warning.\n",
      "Lossy conversion from float32 to uint8. Range [0.0, 9.9284086227417]. Convert image to uint8 prior to saving to suppress this warning.\n",
      "Lossy conversion from float32 to uint8. Range [0.0, 9.9284086227417]. Convert image to uint8 prior to saving to suppress this warning.\n",
      "Lossy conversion from float32 to uint8. Range [0.0, 9.9284086227417]. Convert image to uint8 prior to saving to suppress this warning.\n",
      "Lossy conversion from float32 to uint8. Range [0.0, 9.9284086227417]. Convert image to uint8 prior to saving to suppress this warning.\n",
      "Lossy conversion from float32 to uint8. Range [0.0, 9.9284086227417]. Convert image to uint8 prior to saving to suppress this warning.\n",
      "Lossy conversion from float32 to uint8. Range [0.0, 9.9284086227417]. Convert image to uint8 prior to saving to suppress this warning.\n",
      "Lossy conversion from float32 to uint8. Range [0.0, 9.9284086227417]. Convert image to uint8 prior to saving to suppress this warning.\n",
      "Lossy conversion from float32 to uint8. Range [0.0, 9.9284086227417]. Convert image to uint8 prior to saving to suppress this warning.\n",
      "Lossy conversion from float32 to uint8. Range [0.0, 9.9284086227417]. Convert image to uint8 prior to saving to suppress this warning.\n",
      "Lossy conversion from float32 to uint8. Range [0.0, 9.9284086227417]. Convert image to uint8 prior to saving to suppress this warning.\n",
      "Lossy conversion from float32 to uint8. Range [0.0, 9.9284086227417]. Convert image to uint8 prior to saving to suppress this warning.\n",
      "Lossy conversion from float32 to uint8. Range [0.0, 9.9284086227417]. Convert image to uint8 prior to saving to suppress this warning.\n",
      "Lossy conversion from float32 to uint8. Range [0.0, 9.9284086227417]. Convert image to uint8 prior to saving to suppress this warning.\n",
      "Lossy conversion from float32 to uint8. Range [0.0, 9.9284086227417]. Convert image to uint8 prior to saving to suppress this warning.\n",
      "Lossy conversion from float32 to uint8. Range [0.0, 9.9284086227417]. Convert image to uint8 prior to saving to suppress this warning.\n",
      "Lossy conversion from float32 to uint8. Range [0.0, 9.9284086227417]. Convert image to uint8 prior to saving to suppress this warning.\n",
      "Lossy conversion from float32 to uint8. Range [0.0, 9.9284086227417]. Convert image to uint8 prior to saving to suppress this warning.\n",
      "Lossy conversion from float32 to uint8. Range [0.0, 9.9284086227417]. Convert image to uint8 prior to saving to suppress this warning.\n",
      "Lossy conversion from float32 to uint8. Range [0.0, 9.9284086227417]. Convert image to uint8 prior to saving to suppress this warning.\n",
      "Lossy conversion from float32 to uint8. Range [0.0, 9.9284086227417]. Convert image to uint8 prior to saving to suppress this warning.\n",
      "Lossy conversion from float32 to uint8. Range [0.0, 9.9284086227417]. Convert image to uint8 prior to saving to suppress this warning.\n",
      "Lossy conversion from float32 to uint8. Range [0.0, 9.9284086227417]. Convert image to uint8 prior to saving to suppress this warning.\n",
      "Lossy conversion from float32 to uint8. Range [0.0, 9.9284086227417]. Convert image to uint8 prior to saving to suppress this warning.\n",
      "Lossy conversion from float32 to uint8. Range [0.0, 9.9284086227417]. Convert image to uint8 prior to saving to suppress this warning.\n",
      "Lossy conversion from float32 to uint8. Range [0.0, 9.9284086227417]. Convert image to uint8 prior to saving to suppress this warning.\n",
      "Lossy conversion from float32 to uint8. Range [0.0, 9.9284086227417]. Convert image to uint8 prior to saving to suppress this warning.\n",
      "Lossy conversion from float32 to uint8. Range [0.0, 9.9284086227417]. Convert image to uint8 prior to saving to suppress this warning.\n",
      "Lossy conversion from float32 to uint8. Range [0.0, 9.9284086227417]. Convert image to uint8 prior to saving to suppress this warning.\n",
      "Lossy conversion from float32 to uint8. Range [0.0, 9.9284086227417]. Convert image to uint8 prior to saving to suppress this warning.\n",
      "Lossy conversion from float32 to uint8. Range [0.0, 9.9284086227417]. Convert image to uint8 prior to saving to suppress this warning.\n",
      "Lossy conversion from float32 to uint8. Range [0.0, 9.9284086227417]. Convert image to uint8 prior to saving to suppress this warning.\n",
      "Lossy conversion from float32 to uint8. Range [0.0, 9.9284086227417]. Convert image to uint8 prior to saving to suppress this warning.\n",
      "Lossy conversion from float32 to uint8. Range [0.0, 9.9284086227417]. Convert image to uint8 prior to saving to suppress this warning.\n",
      "Lossy conversion from float32 to uint8. Range [0.0, 9.9284086227417]. Convert image to uint8 prior to saving to suppress this warning.\n",
      "Lossy conversion from float32 to uint8. Range [0.0, 9.9284086227417]. Convert image to uint8 prior to saving to suppress this warning.\n",
      "Lossy conversion from float32 to uint8. Range [0.0, 9.9284086227417]. Convert image to uint8 prior to saving to suppress this warning.\n",
      "Lossy conversion from float32 to uint8. Range [0.0, 9.9284086227417]. Convert image to uint8 prior to saving to suppress this warning.\n",
      "Lossy conversion from float32 to uint8. Range [0.0, 9.9284086227417]. Convert image to uint8 prior to saving to suppress this warning.\n",
      "Lossy conversion from float32 to uint8. Range [0.0, 9.9284086227417]. Convert image to uint8 prior to saving to suppress this warning.\n",
      "Lossy conversion from float32 to uint8. Range [0.0, 9.9284086227417]. Convert image to uint8 prior to saving to suppress this warning.\n",
      "Lossy conversion from float32 to uint8. Range [0.0, 9.9284086227417]. Convert image to uint8 prior to saving to suppress this warning.\n",
      "Lossy conversion from float32 to uint8. Range [0.0, 9.9284086227417]. Convert image to uint8 prior to saving to suppress this warning.\n",
      "Lossy conversion from float32 to uint8. Range [0.0, 9.9284086227417]. Convert image to uint8 prior to saving to suppress this warning.\n",
      "Lossy conversion from float32 to uint8. Range [0.0, 9.9284086227417]. Convert image to uint8 prior to saving to suppress this warning.\n",
      "Lossy conversion from float32 to uint8. Range [0.0, 9.9284086227417]. Convert image to uint8 prior to saving to suppress this warning.\n",
      "Lossy conversion from float32 to uint8. Range [0.0, 9.9284086227417]. Convert image to uint8 prior to saving to suppress this warning.\n",
      "Lossy conversion from float32 to uint8. Range [0.0, 9.9284086227417]. Convert image to uint8 prior to saving to suppress this warning.\n",
      "Lossy conversion from float32 to uint8. Range [0.0, 9.9284086227417]. Convert image to uint8 prior to saving to suppress this warning.\n",
      "Lossy conversion from float32 to uint8. Range [0.0, 9.9284086227417]. Convert image to uint8 prior to saving to suppress this warning.\n",
      "Lossy conversion from float32 to uint8. Range [0.0, 9.9284086227417]. Convert image to uint8 prior to saving to suppress this warning.\n",
      "Lossy conversion from float32 to uint8. Range [0.0, 9.9284086227417]. Convert image to uint8 prior to saving to suppress this warning.\n",
      "Lossy conversion from float32 to uint8. Range [0.0, 9.9284086227417]. Convert image to uint8 prior to saving to suppress this warning.\n"
     ]
    }
   ],
   "source": [
    "imageio.mimsave('./animation.gif', val[0][0], fps=10)"
   ]
  },
  {
   "cell_type": "code",
   "execution_count": 25,
   "metadata": {},
   "outputs": [
    {
     "data": {
      "text/plain": [
       "<matplotlib.image.AxesImage at 0x206cfb812d0>"
      ]
     },
     "execution_count": 25,
     "metadata": {},
     "output_type": "execute_result"
    },
    {
     "data": {
      "image/png": "[encoded data removed]",
      "text/plain": [
       "<Figure size 640x480 with 1 Axes>"
      ]
     },
     "metadata": {},
     "output_type": "display_data"
    }
   ],
   "source": [
    "plt.imshow(val[0][1][35])\n"
   ]
  },
  {
   "cell_type": "code",
   "execution_count": 26,
   "metadata": {},
   "outputs": [
    {
     "data": {
      "text/plain": [
       "<tf.Tensor: shape=(), dtype=string, numpy=b'bin red in l eight now'>"
      ]
     },
     "execution_count": 26,
     "metadata": {},
     "output_type": "execute_result"
    }
   ],
   "source": [
    "tf.strings.reduce_join([num_to_char(word) for word in val[1][0]])"
   ]
  },
  {
   "cell_type": "code",
   "execution_count": 27,
   "metadata": {},
   "outputs": [],
   "source": [
    "from tensorflow.keras.models import Sequential \n",
    "from tensorflow.keras.layers import Conv3D, LSTM, Dense, Dropout, Bidirectional, MaxPool3D, Activation, Reshape, SpatialDropout3D, BatchNormalization, TimeDistributed, Flatten\n",
    "from tensorflow.keras.optimizers import Adam\n",
    "from tensorflow.keras.callbacks import ModelCheckpoint, LearningRateScheduler"
   ]
  },
  {
   "cell_type": "code",
   "execution_count": 28,
   "metadata": {},
   "outputs": [],
   "source": [
    "model = Sequential()\n",
    "model.add(Conv3D(128, 3, input_shape=(75,46,140,1), padding='same'))\n",
    "model.add(Activation('relu'))\n",
    "model.add(MaxPool3D((1,2,2)))\n",
    "\n",
    "model.add(Conv3D(256, 3, padding='same'))\n",
    "model.add(Activation('relu'))\n",
    "model.add(MaxPool3D((1,2,2)))\n",
    "\n",
    "model.add(Conv3D(75, 3, padding='same'))\n",
    "model.add(Activation('relu'))\n",
    "model.add(MaxPool3D((1,2,2)))\n",
    "\n",
    "model.add(TimeDistributed(Flatten()))\n",
    "\n",
    "model.add(Bidirectional(LSTM(128, kernel_initializer='Orthogonal', return_sequences=True)))\n",
    "model.add(Dropout(.5))\n",
    "\n",
    "model.add(Bidirectional(LSTM(128, kernel_initializer='Orthogonal', return_sequences=True)))\n",
    "model.add(Dropout(.5))\n",
    "\n",
    "model.add(Dense(char_to_num.vocabulary_size()+1, kernel_initializer='he_normal', activation='softmax'))"
   ]
  },
  {
   "cell_type": "code",
   "execution_count": 29,
   "metadata": {},
   "outputs": [
    {
     "name": "stdout",
     "output_type": "stream",
     "text": [
      "Model: \"sequential\"\n",
      "_________________________________________________________________\n",
      " Layer (type)                Output Shape              Param #   \n",
      "=================================================================\n",
      " conv3d (Conv3D)             (None, 75, 46, 140, 128)  3584      \n",
      "                                                                 \n",
      " activation (Activation)     (None, 75, 46, 140, 128)  0         \n",
      "                                                                 \n",
      " max_pooling3d (MaxPooling3D  (None, 75, 23, 70, 128)  0         \n",
      " )                                                               \n",
      "                                                                 \n",
      " conv3d_1 (Conv3D)           (None, 75, 23, 70, 256)   884992    \n",
      "                                                                 \n",
      " activation_1 (Activation)   (None, 75, 23, 70, 256)   0         \n",
      "                                                                 \n",
      " max_pooling3d_1 (MaxPooling  (None, 75, 11, 35, 256)  0         \n",
      " 3D)                                                             \n",
      "                                                                 \n",
      " conv3d_2 (Conv3D)           (None, 75, 11, 35, 75)    518475    \n",
      "                                                                 \n",
      " activation_2 (Activation)   (None, 75, 11, 35, 75)    0         \n",
      "                                                                 \n",
      " max_pooling3d_2 (MaxPooling  (None, 75, 5, 17, 75)    0         \n",
      " 3D)                                                             \n",
      "                                                                 \n",
      " time_distributed (TimeDistr  (None, 75, 6375)         0         \n",
      " ibuted)                                                         \n",
      "                                                                 \n",
      " bidirectional (Bidirectiona  (None, 75, 256)          6660096   \n",
      " l)                                                              \n",
      "                                                                 \n",
      " dropout (Dropout)           (None, 75, 256)           0         \n",
      "                                                                 \n",
      " bidirectional_1 (Bidirectio  (None, 75, 256)          394240    \n",
      " nal)                                                            \n",
      "                                                                 \n",
      " dropout_1 (Dropout)         (None, 75, 256)           0         \n",
      "                                                                 \n",
      " dense (Dense)               (None, 75, 41)            10537     \n",
      "                                                                 \n",
      "=================================================================\n",
      "Total params: 8,471,924\n",
      "Trainable params: 8,471,924\n",
      "Non-trainable params: 0\n",
      "_________________________________________________________________\n"
     ]
    }
   ],
   "source": [
    "model.summary()"
   ]
  },
  {
   "cell_type": "code",
   "execution_count": 30,
   "metadata": {},
   "outputs": [
    {
     "name": "stdout",
     "output_type": "stream",
     "text": [
      "1/1 [==============================] - 7s 7s/step\n"
     ]
    }
   ],
   "source": [
    "yhat = model.predict(val[0])"
   ]
  },
  {
   "cell_type": "code",
   "execution_count": 31,
   "metadata": {},
   "outputs": [
    {
     "data": {
      "text/plain": [
       "<tf.Tensor: shape=(), dtype=string, numpy=b'f8888888888888888888888888888888888888888888888888888888888888888888888888c'>"
      ]
     },
     "execution_count": 31,
     "metadata": {},
     "output_type": "execute_result"
    }
   ],
   "source": [
    "tf.strings.reduce_join([num_to_char(x) for x in tf.argmax(yhat[0],axis=1)])"
   ]
  },
  {
   "cell_type": "code",
   "execution_count": 32,
   "metadata": {},
   "outputs": [
    {
     "data": {
      "text/plain": [
       "<tf.Tensor: shape=(), dtype=string, numpy=b'f8888888888888888888888888888888888888888888888888888888888888888888888888c'>"
      ]
     },
     "execution_count": 32,
     "metadata": {},
     "output_type": "execute_result"
    }
   ],
   "source": [
    "tf.strings.reduce_join([num_to_char(tf.argmax(x)) for x in yhat[0]])"
   ]
  },
  {
   "cell_type": "code",
   "execution_count": 33,
   "metadata": {},
   "outputs": [
    {
     "data": {
      "text/plain": [
       "(None, 75, 41)"
      ]
     },
     "execution_count": 33,
     "metadata": {},
     "output_type": "execute_result"
    }
   ],
   "source": [
    "model.input_shape\n",
    "model.output_shape"
   ]
  },
  {
   "cell_type": "code",
   "execution_count": 56,
   "metadata": {},
   "outputs": [],
   "source": [
    "#Training The Model"
   ]
  },
  {
   "cell_type": "code",
   "execution_count": 34,
   "metadata": {},
   "outputs": [],
   "source": [
    "def scheduler(epoch,lr):\n",
    "    if epoch<30:\n",
    "        return lr\n",
    "    else:\n",
    "        return lr*tf.math.exp(-0,1)"
   ]
  },
  {
   "cell_type": "code",
   "execution_count": 35,
   "metadata": {},
   "outputs": [],
   "source": [
    "def CTCLoss(y_true, y_pred):\n",
    "    batch_len = tf.cast(tf.shape(y_true)[0], dtype=\"int64\")\n",
    "    input_length = tf.cast(tf.shape(y_pred)[1], dtype=\"int64\")\n",
    "    label_length = tf.cast(tf.shape(y_true)[1], dtype=\"int64\")\n",
    "\n",
    "    input_length = input_length * tf.ones(shape=(batch_len, 1), dtype=\"int64\")\n",
    "    label_length = label_length * tf.ones(shape=(batch_len, 1), dtype=\"int64\")\n",
    "\n",
    "    loss = tf.keras.backend.ctc_batch_cost(y_true, y_pred, input_length, label_length)\n",
    "    return loss"
   ]
  },
  {
   "cell_type": "code",
   "execution_count": 36,
   "metadata": {},
   "outputs": [],
   "source": [
    "class ProduceExample(tf.keras.callbacks.Callback): \n",
    "    def __init__(self, dataset) -> None: \n",
    "        self.dataset = dataset.as_numpy_iterator()\n",
    "    \n",
    "    def on_epoch_end(self, epoch, logs=None) -> None:\n",
    "        data = self.dataset.next()\n",
    "        yhat = self.model.predict(data[0])\n",
    "        decoded = tf.keras.backend.ctc_decode(yhat, [75,75], greedy=False)[0][0].numpy()\n",
    "        for x in range(len(yhat)):           \n",
    "            print('Original:', tf.strings.reduce_join(num_to_char(data[1][x])).numpy().decode('utf-8'))\n",
    "            print('Prediction:', tf.strings.reduce_join(num_to_char(decoded[x])).numpy().decode('utf-8'))\n",
    "            print('~'*100)"
   ]
  },
  {
   "cell_type": "code",
   "execution_count": 37,
   "metadata": {},
   "outputs": [],
   "source": [
    "model.compile(optimizer=Adam(learning_rate=0.0001), loss=CTCLoss)"
   ]
  },
  {
   "cell_type": "code",
   "execution_count": 38,
   "metadata": {},
   "outputs": [],
   "source": [
    "checkpoint_callback = ModelCheckpoint(os.path.join('models','checkpoint'), monitor='loss', save_weights_only=True) "
   ]
  },
  {
   "cell_type": "code",
   "execution_count": 39,
   "metadata": {},
   "outputs": [],
   "source": [
    "schedule_callback = LearningRateScheduler(scheduler)"
   ]
  },
  {
   "cell_type": "code",
   "execution_count": 40,
   "metadata": {},
   "outputs": [],
   "source": [
    "example_callback = ProduceExample(test)"
   ]
  },
  {
   "cell_type": "code",
   "execution_count": 39,
   "metadata": {},
   "outputs": [
    {
     "name": "stdout",
     "output_type": "stream",
     "text": [
      "Epoch 1/100\n",
      "  2/450 [..............................] - ETA: 5:35:38 - loss: 208.3377"
     ]
    },
    {
     "ename": "KeyboardInterrupt",
     "evalue": "",
     "output_type": "error",
     "traceback": [
      "\u001b[1;31m---------------------------------------------------------------------------\u001b[0m",
      "\u001b[1;31mKeyboardInterrupt\u001b[0m                         Traceback (most recent call last)",
      "\u001b[1;32mc:\\Users\\mayan\\ML_projects\\Lip_reading - Copy.ipynb Cell 40\u001b[0m in \u001b[0;36m1\n\u001b[1;32m----> <a href='vscode-notebook-cell:/c%3A/Users/mayan/ML_projects/Lip_reading%20-%20Copy.ipynb#X55sZmlsZQ%3D%3D?line=0'>1</a>\u001b[0m model\u001b[39m.\u001b[39;49mfit(train, validation_data\u001b[39m=\u001b[39;49mtest, epochs\u001b[39m=\u001b[39;49m\u001b[39m100\u001b[39;49m, callbacks\u001b[39m=\u001b[39;49m[checkpoint_callback, schedule_callback, example_callback])\n",
      "File \u001b[1;32mc:\\Users\\mayan\\AppData\\Local\\Programs\\Python\\Python310\\lib\\site-packages\\keras\\utils\\traceback_utils.py:65\u001b[0m, in \u001b[0;36mfilter_traceback.<locals>.error_handler\u001b[1;34m(*args, **kwargs)\u001b[0m\n\u001b[0;32m     63\u001b[0m filtered_tb \u001b[39m=\u001b[39m \u001b[39mNone\u001b[39;00m\n\u001b[0;32m     64\u001b[0m \u001b[39mtry\u001b[39;00m:\n\u001b[1;32m---> 65\u001b[0m     \u001b[39mreturn\u001b[39;00m fn(\u001b[39m*\u001b[39margs, \u001b[39m*\u001b[39m\u001b[39m*\u001b[39mkwargs)\n\u001b[0;32m     66\u001b[0m \u001b[39mexcept\u001b[39;00m \u001b[39mException\u001b[39;00m \u001b[39mas\u001b[39;00m e:\n\u001b[0;32m     67\u001b[0m     filtered_tb \u001b[39m=\u001b[39m _process_traceback_frames(e\u001b[39m.\u001b[39m__traceback__)\n",
      "File \u001b[1;32mc:\\Users\\mayan\\AppData\\Local\\Programs\\Python\\Python310\\lib\\site-packages\\keras\\engine\\training.py:1564\u001b[0m, in \u001b[0;36mModel.fit\u001b[1;34m(self, x, y, batch_size, epochs, verbose, callbacks, validation_split, validation_data, shuffle, class_weight, sample_weight, initial_epoch, steps_per_epoch, validation_steps, validation_batch_size, validation_freq, max_queue_size, workers, use_multiprocessing)\u001b[0m\n\u001b[0;32m   1556\u001b[0m \u001b[39mwith\u001b[39;00m tf\u001b[39m.\u001b[39mprofiler\u001b[39m.\u001b[39mexperimental\u001b[39m.\u001b[39mTrace(\n\u001b[0;32m   1557\u001b[0m     \u001b[39m\"\u001b[39m\u001b[39mtrain\u001b[39m\u001b[39m\"\u001b[39m,\n\u001b[0;32m   1558\u001b[0m     epoch_num\u001b[39m=\u001b[39mepoch,\n\u001b[1;32m   (...)\u001b[0m\n\u001b[0;32m   1561\u001b[0m     _r\u001b[39m=\u001b[39m\u001b[39m1\u001b[39m,\n\u001b[0;32m   1562\u001b[0m ):\n\u001b[0;32m   1563\u001b[0m     callbacks\u001b[39m.\u001b[39mon_train_batch_begin(step)\n\u001b[1;32m-> 1564\u001b[0m     tmp_logs \u001b[39m=\u001b[39m \u001b[39mself\u001b[39;49m\u001b[39m.\u001b[39;49mtrain_function(iterator)\n\u001b[0;32m   1565\u001b[0m     \u001b[39mif\u001b[39;00m data_handler\u001b[39m.\u001b[39mshould_sync:\n\u001b[0;32m   1566\u001b[0m         context\u001b[39m.\u001b[39masync_wait()\n",
      "File \u001b[1;32mc:\\Users\\mayan\\AppData\\Local\\Programs\\Python\\Python310\\lib\\site-packages\\tensorflow\\python\\util\\traceback_utils.py:150\u001b[0m, in \u001b[0;36mfilter_traceback.<locals>.error_handler\u001b[1;34m(*args, **kwargs)\u001b[0m\n\u001b[0;32m    148\u001b[0m filtered_tb \u001b[39m=\u001b[39m \u001b[39mNone\u001b[39;00m\n\u001b[0;32m    149\u001b[0m \u001b[39mtry\u001b[39;00m:\n\u001b[1;32m--> 150\u001b[0m   \u001b[39mreturn\u001b[39;00m fn(\u001b[39m*\u001b[39margs, \u001b[39m*\u001b[39m\u001b[39m*\u001b[39mkwargs)\n\u001b[0;32m    151\u001b[0m \u001b[39mexcept\u001b[39;00m \u001b[39mException\u001b[39;00m \u001b[39mas\u001b[39;00m e:\n\u001b[0;32m    152\u001b[0m   filtered_tb \u001b[39m=\u001b[39m _process_traceback_frames(e\u001b[39m.\u001b[39m__traceback__)\n",
      "File \u001b[1;32mc:\\Users\\mayan\\AppData\\Local\\Programs\\Python\\Python310\\lib\\site-packages\\tensorflow\\python\\eager\\def_function.py:915\u001b[0m, in \u001b[0;36mFunction.__call__\u001b[1;34m(self, *args, **kwds)\u001b[0m\n\u001b[0;32m    912\u001b[0m compiler \u001b[39m=\u001b[39m \u001b[39m\"\u001b[39m\u001b[39mxla\u001b[39m\u001b[39m\"\u001b[39m \u001b[39mif\u001b[39;00m \u001b[39mself\u001b[39m\u001b[39m.\u001b[39m_jit_compile \u001b[39melse\u001b[39;00m \u001b[39m\"\u001b[39m\u001b[39mnonXla\u001b[39m\u001b[39m\"\u001b[39m\n\u001b[0;32m    914\u001b[0m \u001b[39mwith\u001b[39;00m OptionalXlaContext(\u001b[39mself\u001b[39m\u001b[39m.\u001b[39m_jit_compile):\n\u001b[1;32m--> 915\u001b[0m   result \u001b[39m=\u001b[39m \u001b[39mself\u001b[39m\u001b[39m.\u001b[39m_call(\u001b[39m*\u001b[39margs, \u001b[39m*\u001b[39m\u001b[39m*\u001b[39mkwds)\n\u001b[0;32m    917\u001b[0m new_tracing_count \u001b[39m=\u001b[39m \u001b[39mself\u001b[39m\u001b[39m.\u001b[39mexperimental_get_tracing_count()\n\u001b[0;32m    918\u001b[0m without_tracing \u001b[39m=\u001b[39m (tracing_count \u001b[39m==\u001b[39m new_tracing_count)\n",
      "File \u001b[1;32mc:\\Users\\mayan\\AppData\\Local\\Programs\\Python\\Python310\\lib\\site-packages\\tensorflow\\python\\eager\\def_function.py:947\u001b[0m, in \u001b[0;36mFunction._call\u001b[1;34m(self, *args, **kwds)\u001b[0m\n\u001b[0;32m    944\u001b[0m   \u001b[39mself\u001b[39m\u001b[39m.\u001b[39m_lock\u001b[39m.\u001b[39mrelease()\n\u001b[0;32m    945\u001b[0m   \u001b[39m# In this case we have created variables on the first call, so we run the\u001b[39;00m\n\u001b[0;32m    946\u001b[0m   \u001b[39m# defunned version which is guaranteed to never create variables.\u001b[39;00m\n\u001b[1;32m--> 947\u001b[0m   \u001b[39mreturn\u001b[39;00m \u001b[39mself\u001b[39m\u001b[39m.\u001b[39m_stateless_fn(\u001b[39m*\u001b[39margs, \u001b[39m*\u001b[39m\u001b[39m*\u001b[39mkwds)  \u001b[39m# pylint: disable=not-callable\u001b[39;00m\n\u001b[0;32m    948\u001b[0m \u001b[39melif\u001b[39;00m \u001b[39mself\u001b[39m\u001b[39m.\u001b[39m_stateful_fn \u001b[39mis\u001b[39;00m \u001b[39mnot\u001b[39;00m \u001b[39mNone\u001b[39;00m:\n\u001b[0;32m    949\u001b[0m   \u001b[39m# Release the lock early so that multiple threads can perform the call\u001b[39;00m\n\u001b[0;32m    950\u001b[0m   \u001b[39m# in parallel.\u001b[39;00m\n\u001b[0;32m    951\u001b[0m   \u001b[39mself\u001b[39m\u001b[39m.\u001b[39m_lock\u001b[39m.\u001b[39mrelease()\n",
      "File \u001b[1;32mc:\\Users\\mayan\\AppData\\Local\\Programs\\Python\\Python310\\lib\\site-packages\\tensorflow\\python\\eager\\function.py:2496\u001b[0m, in \u001b[0;36mFunction.__call__\u001b[1;34m(self, *args, **kwargs)\u001b[0m\n\u001b[0;32m   2493\u001b[0m \u001b[39mwith\u001b[39;00m \u001b[39mself\u001b[39m\u001b[39m.\u001b[39m_lock:\n\u001b[0;32m   2494\u001b[0m   (graph_function,\n\u001b[0;32m   2495\u001b[0m    filtered_flat_args) \u001b[39m=\u001b[39m \u001b[39mself\u001b[39m\u001b[39m.\u001b[39m_maybe_define_function(args, kwargs)\n\u001b[1;32m-> 2496\u001b[0m \u001b[39mreturn\u001b[39;00m graph_function\u001b[39m.\u001b[39;49m_call_flat(\n\u001b[0;32m   2497\u001b[0m     filtered_flat_args, captured_inputs\u001b[39m=\u001b[39;49mgraph_function\u001b[39m.\u001b[39;49mcaptured_inputs)\n",
      "File \u001b[1;32mc:\\Users\\mayan\\AppData\\Local\\Programs\\Python\\Python310\\lib\\site-packages\\tensorflow\\python\\eager\\function.py:1862\u001b[0m, in \u001b[0;36mConcreteFunction._call_flat\u001b[1;34m(self, args, captured_inputs, cancellation_manager)\u001b[0m\n\u001b[0;32m   1858\u001b[0m possible_gradient_type \u001b[39m=\u001b[39m gradients_util\u001b[39m.\u001b[39mPossibleTapeGradientTypes(args)\n\u001b[0;32m   1859\u001b[0m \u001b[39mif\u001b[39;00m (possible_gradient_type \u001b[39m==\u001b[39m gradients_util\u001b[39m.\u001b[39mPOSSIBLE_GRADIENT_TYPES_NONE\n\u001b[0;32m   1860\u001b[0m     \u001b[39mand\u001b[39;00m executing_eagerly):\n\u001b[0;32m   1861\u001b[0m   \u001b[39m# No tape is watching; skip to running the function.\u001b[39;00m\n\u001b[1;32m-> 1862\u001b[0m   \u001b[39mreturn\u001b[39;00m \u001b[39mself\u001b[39m\u001b[39m.\u001b[39m_build_call_outputs(\u001b[39mself\u001b[39;49m\u001b[39m.\u001b[39;49m_inference_function\u001b[39m.\u001b[39;49mcall(\n\u001b[0;32m   1863\u001b[0m       ctx, args, cancellation_manager\u001b[39m=\u001b[39;49mcancellation_manager))\n\u001b[0;32m   1864\u001b[0m forward_backward \u001b[39m=\u001b[39m \u001b[39mself\u001b[39m\u001b[39m.\u001b[39m_select_forward_and_backward_functions(\n\u001b[0;32m   1865\u001b[0m     args,\n\u001b[0;32m   1866\u001b[0m     possible_gradient_type,\n\u001b[0;32m   1867\u001b[0m     executing_eagerly)\n\u001b[0;32m   1868\u001b[0m forward_function, args_with_tangents \u001b[39m=\u001b[39m forward_backward\u001b[39m.\u001b[39mforward()\n",
      "File \u001b[1;32mc:\\Users\\mayan\\AppData\\Local\\Programs\\Python\\Python310\\lib\\site-packages\\tensorflow\\python\\eager\\function.py:499\u001b[0m, in \u001b[0;36m_EagerDefinedFunction.call\u001b[1;34m(self, ctx, args, cancellation_manager)\u001b[0m\n\u001b[0;32m    497\u001b[0m \u001b[39mwith\u001b[39;00m _InterpolateFunctionError(\u001b[39mself\u001b[39m):\n\u001b[0;32m    498\u001b[0m   \u001b[39mif\u001b[39;00m cancellation_manager \u001b[39mis\u001b[39;00m \u001b[39mNone\u001b[39;00m:\n\u001b[1;32m--> 499\u001b[0m     outputs \u001b[39m=\u001b[39m execute\u001b[39m.\u001b[39;49mexecute(\n\u001b[0;32m    500\u001b[0m         \u001b[39mstr\u001b[39;49m(\u001b[39mself\u001b[39;49m\u001b[39m.\u001b[39;49msignature\u001b[39m.\u001b[39;49mname),\n\u001b[0;32m    501\u001b[0m         num_outputs\u001b[39m=\u001b[39;49m\u001b[39mself\u001b[39;49m\u001b[39m.\u001b[39;49m_num_outputs,\n\u001b[0;32m    502\u001b[0m         inputs\u001b[39m=\u001b[39;49margs,\n\u001b[0;32m    503\u001b[0m         attrs\u001b[39m=\u001b[39;49mattrs,\n\u001b[0;32m    504\u001b[0m         ctx\u001b[39m=\u001b[39;49mctx)\n\u001b[0;32m    505\u001b[0m   \u001b[39melse\u001b[39;00m:\n\u001b[0;32m    506\u001b[0m     outputs \u001b[39m=\u001b[39m execute\u001b[39m.\u001b[39mexecute_with_cancellation(\n\u001b[0;32m    507\u001b[0m         \u001b[39mstr\u001b[39m(\u001b[39mself\u001b[39m\u001b[39m.\u001b[39msignature\u001b[39m.\u001b[39mname),\n\u001b[0;32m    508\u001b[0m         num_outputs\u001b[39m=\u001b[39m\u001b[39mself\u001b[39m\u001b[39m.\u001b[39m_num_outputs,\n\u001b[1;32m   (...)\u001b[0m\n\u001b[0;32m    511\u001b[0m         ctx\u001b[39m=\u001b[39mctx,\n\u001b[0;32m    512\u001b[0m         cancellation_manager\u001b[39m=\u001b[39mcancellation_manager)\n",
      "File \u001b[1;32mc:\\Users\\mayan\\AppData\\Local\\Programs\\Python\\Python310\\lib\\site-packages\\tensorflow\\python\\eager\\execute.py:54\u001b[0m, in \u001b[0;36mquick_execute\u001b[1;34m(op_name, num_outputs, inputs, attrs, ctx, name)\u001b[0m\n\u001b[0;32m     52\u001b[0m \u001b[39mtry\u001b[39;00m:\n\u001b[0;32m     53\u001b[0m   ctx\u001b[39m.\u001b[39mensure_initialized()\n\u001b[1;32m---> 54\u001b[0m   tensors \u001b[39m=\u001b[39m pywrap_tfe\u001b[39m.\u001b[39;49mTFE_Py_Execute(ctx\u001b[39m.\u001b[39;49m_handle, device_name, op_name,\n\u001b[0;32m     55\u001b[0m                                       inputs, attrs, num_outputs)\n\u001b[0;32m     56\u001b[0m \u001b[39mexcept\u001b[39;00m core\u001b[39m.\u001b[39m_NotOkStatusException \u001b[39mas\u001b[39;00m e:\n\u001b[0;32m     57\u001b[0m   \u001b[39mif\u001b[39;00m name \u001b[39mis\u001b[39;00m \u001b[39mnot\u001b[39;00m \u001b[39mNone\u001b[39;00m:\n",
      "\u001b[1;31mKeyboardInterrupt\u001b[0m: "
     ]
    }
   ],
   "source": [
    "model.fit(train, validation_data=test, epochs=100, callbacks=[checkpoint_callback, schedule_callback, example_callback])"
   ]
  },
  {
   "cell_type": "code",
   "execution_count": 40,
   "metadata": {},
   "outputs": [
    {
     "name": "stderr",
     "output_type": "stream",
     "text": [
      "Downloading...\n",
      "From: https://drive.google.com/uc?id=1vWscXs4Vt0a_1IH1-ct2TCgXAZT-N3_Y\n",
      "To: c:\\Users\\mayan\\ML_projects\\checkpoints.zip\n",
      "100%|██████████| 94.5M/94.5M [00:16<00:00, 5.56MB/s]\n"
     ]
    },
    {
     "data": {
      "text/plain": [
       "['models\\\\checkpoint.index',\n",
       " 'models\\\\__MACOSX/._checkpoint.index',\n",
       " 'models\\\\checkpoint.data-00000-of-00001',\n",
       " 'models\\\\__MACOSX/._checkpoint.data-00000-of-00001',\n",
       " 'models\\\\checkpoint',\n",
       " 'models\\\\__MACOSX/._checkpoint']"
      ]
     },
     "execution_count": 40,
     "metadata": {},
     "output_type": "execute_result"
    }
   ],
   "source": [
    "url = 'https://drive.google.com/uc?id=1vWscXs4Vt0a_1IH1-ct2TCgXAZT-N3_Y'\n",
    "output = 'checkpoints.zip'\n",
    "gdown.download(url, output, quiet=False)\n",
    "gdown.extractall('checkpoints.zip', 'models')"
   ]
  },
  {
   "cell_type": "code",
   "execution_count": 41,
   "metadata": {},
   "outputs": [
    {
     "data": {
      "text/plain": [
       "<tensorflow.python.checkpoint.checkpoint.CheckpointLoadStatus at 0x206d24b66b0>"
      ]
     },
     "execution_count": 41,
     "metadata": {},
     "output_type": "execute_result"
    }
   ],
   "source": [
    "model.load_weights('models/checkpoint')"
   ]
  },
  {
   "cell_type": "code",
   "execution_count": 42,
   "metadata": {},
   "outputs": [],
   "source": [
    "test_data = test.as_numpy_iterator()"
   ]
  },
  {
   "cell_type": "code",
   "execution_count": null,
   "metadata": {},
   "outputs": [],
   "source": []
  },
  {
   "cell_type": "code",
   "execution_count": 43,
   "metadata": {},
   "outputs": [],
   "source": [
    "sample = test_data.next()"
   ]
  },
  {
   "cell_type": "code",
   "execution_count": 44,
   "metadata": {},
   "outputs": [
    {
     "name": "stdout",
     "output_type": "stream",
     "text": [
      "1/1 [==============================] - 7s 7s/step\n"
     ]
    }
   ],
   "source": [
    "yhat = model.predict(sample[0])"
   ]
  },
  {
   "cell_type": "code",
   "execution_count": 45,
   "metadata": {},
   "outputs": [
    {
     "name": "stdout",
     "output_type": "stream",
     "text": [
      "~~~~~~~~~~~~~~~~~~~~~~~~~~~~~~~~~~~~~~~~~~~~~~~~~~~~~~~~~~~~~~~~~~~~~~~~~~~~~~~~~~~~~~~~~~~~~~~~~~~~ REAL TEXT\n"
     ]
    },
    {
     "data": {
      "text/plain": [
       "[<tf.Tensor: shape=(), dtype=string, numpy=b'bin blue in l four please'>,\n",
       " <tf.Tensor: shape=(), dtype=string, numpy=b'lay white with f eight please'>]"
      ]
     },
     "execution_count": 45,
     "metadata": {},
     "output_type": "execute_result"
    }
   ],
   "source": [
    "print('~'*100, 'REAL TEXT')\n",
    "[tf.strings.reduce_join([num_to_char(word) for word in sentence]) for sentence  in sample[1]]"
   ]
  },
  {
   "cell_type": "code",
   "execution_count": 46,
   "metadata": {},
   "outputs": [],
   "source": [
    "decoded = tf.keras.backend.ctc_decode(yhat, input_length=[75,75], greedy=True)[0][0].numpy()"
   ]
  },
  {
   "cell_type": "code",
   "execution_count": 47,
   "metadata": {},
   "outputs": [
    {
     "name": "stdout",
     "output_type": "stream",
     "text": [
      "~~~~~~~~~~~~~~~~~~~~~~~~~~~~~~~~~~~~~~~~~~~~~~~~~~~~~~~~~~~~~~~~~~~~~~~~~~~~~~~~~~~~~~~~~~~~~~~~~~~~ PREDICTIONS\n"
     ]
    },
    {
     "data": {
      "text/plain": [
       "[<tf.Tensor: shape=(), dtype=string, numpy=b'bin blue in l four please'>,\n",
       " <tf.Tensor: shape=(), dtype=string, numpy=b'lay white with f eight please'>]"
      ]
     },
     "execution_count": 47,
     "metadata": {},
     "output_type": "execute_result"
    }
   ],
   "source": [
    "print('~'*100, 'PREDICTIONS')\n",
    "[tf.strings.reduce_join([num_to_char(word) for word in sentence]) for sentence in decoded]"
   ]
  },
  {
   "cell_type": "code",
   "execution_count": 48,
   "metadata": {},
   "outputs": [],
   "source": [
    "sample = load_data(tf.convert_to_tensor('.\\\\data\\\\s1\\\\bras9a.mpg'))"
   ]
  },
  {
   "cell_type": "code",
   "execution_count": 49,
   "metadata": {},
   "outputs": [
    {
     "name": "stdout",
     "output_type": "stream",
     "text": [
      "~~~~~~~~~~~~~~~~~~~~~~~~~~~~~~~~~~~~~~~~~~~~~~~~~~~~~~~~~~~~~~~~~~~~~~~~~~~~~~~~~~~~~~~~~~~~~~~~~~~~ REAL TEXT\n"
     ]
    },
    {
     "data": {
      "text/plain": [
       "[<tf.Tensor: shape=(), dtype=string, numpy=b'bin red at s nine again'>]"
      ]
     },
     "execution_count": 49,
     "metadata": {},
     "output_type": "execute_result"
    }
   ],
   "source": [
    "print('~'*100, 'REAL TEXT')\n",
    "[tf.strings.reduce_join([num_to_char(word) for word in sentence]) for sentence in [sample[1]]]"
   ]
  },
  {
   "cell_type": "code",
   "execution_count": 50,
   "metadata": {},
   "outputs": [
    {
     "name": "stdout",
     "output_type": "stream",
     "text": [
      "1/1 [==============================] - 2s 2s/step\n"
     ]
    }
   ],
   "source": [
    "yhat = model.predict(tf.expand_dims(sample[0], axis=0))"
   ]
  },
  {
   "cell_type": "code",
   "execution_count": 51,
   "metadata": {},
   "outputs": [],
   "source": [
    "decoded = tf.keras.backend.ctc_decode(yhat, input_length=[75], greedy=True)[0][0].numpy()"
   ]
  },
  {
   "cell_type": "code",
   "execution_count": 52,
   "metadata": {},
   "outputs": [
    {
     "name": "stdout",
     "output_type": "stream",
     "text": [
      "~~~~~~~~~~~~~~~~~~~~~~~~~~~~~~~~~~~~~~~~~~~~~~~~~~~~~~~~~~~~~~~~~~~~~~~~~~~~~~~~~~~~~~~~~~~~~~~~~~~~ PREDICTIONS\n"
     ]
    },
    {
     "data": {
      "text/plain": [
       "[<tf.Tensor: shape=(), dtype=string, numpy=b'bin red at s nine again'>]"
      ]
     },
     "execution_count": 52,
     "metadata": {},
     "output_type": "execute_result"
    }
   ],
   "source": [
    "print('~'*100, 'PREDICTIONS')\n",
    "[tf.strings.reduce_join([num_to_char(word) for word in sentence]) for sentence in decoded]"
   ]
  }
 ],
 "metadata": {
  "kernelspec": {
   "display_name": "Python 3",
   "language": "python",
   "name": "python3"
  },
  "language_info": {
   "codemirror_mode": {
    "name": "ipython",
    "version": 3
   },
   "file_extension": ".py",
   "mimetype": "text/x-python",
   "name": "python",
   "nbconvert_exporter": "python",
   "pygments_lexer": "ipython3",
   "version": "3.10.7"
  },
  "orig_nbformat": 4,
  "vscode": {
   "interpreter": {
    "hash": "0e107293a1d140d83dbbf32995913b2c919f28a44c73f7b507ef912319e9e5c3"
   }
  }
 },
 "nbformat": 4,
 "nbformat_minor": 2
}
